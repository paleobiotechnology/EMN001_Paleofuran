{
 "cells": [
  {
   "cell_type": "markdown",
   "metadata": {},
   "source": [
    "## **Project**: Natural products from the Palaeolithic\n",
    "\n",
    "## **Section**: Plasmid assemblies\n",
    "\n",
    "Anan Ibrahim, 01.01.2022\n",
    "\n",
    "**Contents**\n",
    " - **Step1**: Create conda envirorment with required dependencies if not already installed \n",
    " - **Step2**: Download sequencing results from eurofins using commandline\n",
    " - **Step3**: Plasmid assembly"
   ]
  },
  {
   "cell_type": "markdown",
   "metadata": {},
   "source": [
    "##########\n",
    "\n",
    "**Step1**: Create conda envirorment with required dependencies if not already installed \n",
    "\n",
    "##########"
   ]
  },
  {
   "cell_type": "code",
   "execution_count": null,
   "metadata": {},
   "outputs": [],
   "source": [
    "# All conda envs can be found in EMN001_Paleofuran/02-scripts/ENVS_*.yml\n",
    "conda env create -f plasmid_assembly.yml\n",
    "conda env create -f samtools.yml"
   ]
  },
  {
   "cell_type": "markdown",
   "metadata": {},
   "source": [
    "##########\n",
    "\n",
    "**Step2**: Download sequencing results from eurofins using commandline\n",
    "\n",
    "##########"
   ]
  },
  {
   "cell_type": "markdown",
   "metadata": {},
   "source": [
    "*Manually*: Add the fasta/gff sequences of the plasmid in folders named by samples"
   ]
  },
  {
   "cell_type": "code",
   "execution_count": null,
   "metadata": {},
   "outputs": [],
   "source": [
    "mkdir /Net/Groups/ccdata/projects/ancientDNA/Plasmid-assembly/Input/Second_batch_ref_seq/\n",
    "cd /Net/Groups/ccdata/projects/ancientDNA/Plasmid-assembly/Input/Second_batch_ref_seq/"
   ]
  },
  {
   "cell_type": "markdown",
   "metadata": {},
   "source": [
    "*Manually*: Add the fastq sequences of the plasmid retrieved from eurofins (in the downloads folder below) in folders named by samples"
   ]
  },
  {
   "cell_type": "code",
   "execution_count": null,
   "metadata": {},
   "outputs": [],
   "source": [
    "mkdir /Net/Groups/ccdata/projects/ancientDNA/Plasmid-assembly/Input/Second_batch/\n",
    "cd /Net/Groups/ccdata/projects/ancientDNA/Plasmid-assembly/Input/Second_batch/"
   ]
  },
  {
   "cell_type": "code",
   "execution_count": null,
   "metadata": {},
   "outputs": [],
   "source": [
    "cd /Net/Groups/ccdata/projects/ancientDNA/Plasmid-assembly/eurofins-downloads\n",
    "\n",
    "wget -m --ftp-user=######### --ftp-password=######## ftp://ftp.gatc-biotech.com/2021-11-16/ "
   ]
  },
  {
   "cell_type": "markdown",
   "metadata": {},
   "source": [
    "How to deal with jupyter notebook on your local computer\n",
    "\n",
    " - If miniconda is not installed, install miniconda in your local directory. Close and reopen the terminal\n",
    "\n",
    " - Now create en env bytyping in the terminal: conda env create -n jupyter-notebook -c anaconda jupyter\n",
    " \n",
    " - To modify the jupyter notebook after downloading the recent copy of the JN from file-zilla: \n",
    " \n",
    " - Activate the env: conda activate jupyter-notebook\n",
    " \n",
    " - Run by typing: jupyter-notebook"
   ]
  },
  {
   "cell_type": "markdown",
   "metadata": {},
   "source": [
    "##########\n",
    "\n",
    "**Step3**: Plasmid assembly\n",
    "\n",
    "##########\n",
    "\n",
    "*NOTE:* Before running please make sure you change the IN OUT REF directories paths according to the project.\n",
    "\n",
    "*NOTE:* Before running please make sure you change the the file names in the IN OUT directory to always match *_3_1.fastq.gz and *_3_2.fastq.gz"
   ]
  },
  {
   "cell_type": "code",
   "execution_count": null,
   "metadata": {},
   "outputs": [],
   "source": [
    "#!/bin/bash\n",
    "\n",
    "# Always remember to put all seq in folders named according to the samples\n",
    "# \"/Net/Groups/ccdata/projects/ancientDNA/Plasmid-assembly/Input/XXX_batch/\" \n",
    "# Always remember to put all seq in\n",
    "# \"/Net/Groups/ccdata/projects/ancientDNA/Plasmid-assembly/Input/XXX_batch_ref_seq/\" \n",
    "# before running the script\n",
    "\n",
    "IN=/Net/Groups/ccdata/projects/ancientDNA/Plasmid-assembly/Input/Third_batch #change the names accordingly \n",
    "OUT=/Net/Groups/ccdata/projects/ancientDNA/Plasmid-assembly/Outputs/Third_batch1 #change the names accordingly\n",
    "REF=/Net/Groups/ccdata/projects/ancientDNA/Plasmid-assembly/Input/Third_batch_ref_seq #change the names accordingly\n",
    "\n",
    "eval \"$(conda shell.bash hook)\"\n",
    "conda activate plasmid_assembly\n",
    "\n",
    "mkdir $OUT\n",
    "# (1) Create log file with all the tools versions\n",
    "mkdir  $OUT/00_Log_files\n",
    "conda list > $OUT/00_Log_files/plasmid_assembly_env_log.txt\n",
    "\n",
    "# (2) Run FASTQC on raw data\n",
    "mkdir  $OUT/01_FastQC_results\n",
    "for F in $IN/*; do \n",
    "N=$(basename $F) ;\n",
    "mkdir $OUT/01_FastQC_results/$N ;\n",
    "cd \"$F\"; \n",
    "fastqc $F/*_3_1.fastq.gz $F/*_3_2.fastq.gz -t 30 -o $OUT/01_FastQC_results/$N;\n",
    "done \n",
    "\n",
    "# (3) Run trimmomatic\n",
    "mkdir  $OUT/02_Trimmomatic_results \n",
    "for F in $IN/*; do\n",
    "N=$(basename $F) ;\n",
    "mkdir $OUT/02_Trimmomatic_results/$N; \n",
    "cd \"$F\";\n",
    "trimmomatic PE -threads 30 \\\n",
    "-trimlog $N.trimlog.txt \\\n",
    "-summary $N.stats.txt \\\n",
    "$F/*_3_1.fastq.gz $F/*_3_2.fastq.gz \\\n",
    "-baseout $N.filtered100.fastq.gz \\\n",
    "MINLEN:100 SLIDINGWINDOW:9:35 ; \n",
    "mv *.txt $OUT/02_Trimmomatic_results/$N\n",
    "mv *_1P.fastq.gz $OUT/02_Trimmomatic_results/$N\n",
    "mv *_2P.fastq.gz $OUT/02_Trimmomatic_results/$N\n",
    "mv *_1U.fastq.gz $OUT/02_Trimmomatic_results/$N\n",
    "mv *_2U.fastq.gz $OUT/02_Trimmomatic_results/$N\n",
    "done \n",
    "\n",
    "# (4) Run FastQC again \n",
    "mkdir $OUT/03_FastQC_results_post_trim\n",
    "for F in $OUT/02_Trimmomatic_results/*; do \n",
    "N=$(basename $F) ;\n",
    "mkdir $OUT/03_FastQC_results_post_trim/$N ;\n",
    "cd \"$F\"; \n",
    "fastqc $F/*_1P.fastq.gz $F/*_2P.fastq.gz -t 30 -o $OUT/03_FastQC_results_post_trim/$N;\n",
    "done \n",
    "\n",
    "# (6) Unicycler_results_bold (most likely to produce a complete assembly but carries greater risk of misassembly.)\n",
    "mkdir $OUT/05_Unicycler_results_bold\n",
    "for F in $OUT/02_Trimmomatic_results/*; do \n",
    "N=$(basename $F) ;\n",
    "cd \"$F\";\n",
    "unicycler -1 $F/*_1P.fastq.gz -2 $F/*_2P.fastq.gz \\\n",
    "-t 30 \\\n",
    "--depth_filter 0.25 \\\n",
    "--mode bold \\\n",
    "--no_pilon \\\n",
    "--no_rotate \\\n",
    "-o $OUT/05_Unicycler_results_bold/$N;\n",
    "done \n",
    "\n",
    "# (8) Run Quast on the assembled files (stats)\n",
    "mkdir  $OUT/07_Quast_results\n",
    "\n",
    "for F in $IN/*; do \n",
    "N=$(basename $F) ;\n",
    "mkdir $OUT/07_Quast_results/$N ;\n",
    "done\n",
    "\n",
    "for F in $IN/*; do \n",
    "N=$(basename $F) ;\n",
    "quast.py -o $OUT/07_Quast_results/$N \\\n",
    "-r $REF/$N/*.fasta \\\n",
    "-l conservative,bold,all-in-one \\\n",
    "-t 30 \\\n",
    "--min-contig 1000 \\\n",
    "-g $REF/$N/*.gff \\\n",
    "$OUT/05_Unicycler_results_bold/$N/assembly.fasta \\\n",
    "done \n",
    "\n",
    "# (09) Run Minimap2 allignment (for all three) \n",
    "mkdir  $OUT/08_Minimap2_results_bold\n",
    "for F in $OUT/05_Unicycler_results_bold/*; do \n",
    "N=$(basename $F) ;\n",
    "mkdir  $OUT/08_Minimap2_results_bold/$N\n",
    "cd $OUT/08_Minimap2_results_bold/$N\n",
    "minimap2 -ax asm5 $REF/$N/*.fasta $OUT/05_Unicycler_results_bold/$N/assembly.fasta > aln.sam ;\n",
    "done \n",
    "\n",
    "# (10) Reference based alignment \n",
    "mkdir  $OUT/09_Minimap2_samtools_ref_alignment | cd\n",
    "\n",
    "for F in $OUT/02_Trimmomatic_results/*; do \n",
    "N=$(basename $F) ;\n",
    "mkdir  $OUT/09_Minimap2_samtools_ref_alignment/$N\n",
    "cd $OUT/09_Minimap2_samtools_ref_alignment/$N\n",
    "minimap2 -ax sr $REF/$N/*.fasta $OUT/02_Trimmomatic_results/$N/*_1P.fastq.gz $OUT/02_Trimmomatic_results/$N/*_2P.fastq.gz > $N.minimap2.sam;  \n",
    "conda activate /Net/Groups/ccdata/apps/conda_envs/samtools\n",
    "samtools sort $N.minimap2.sam -O SAM --threads 28 > $N.minimap2_sorted.sam;\n",
    "samtools consensus -a --show-ins --show-del --low-MQ 20 --threads 29 $N.minimap2_sorted.sam -o $N.consensus_minimap2.fa;\n",
    "done \n",
    "\n",
    "conda deactivate\n",
    "conda deactivate\n",
    "\n",
    "; echo \"Plasmid assembly DONE\" | mail -s \"Plasmid assembly DONE\" #######@outlook.com"
   ]
  }
 ],
 "metadata": {
  "kernelspec": {
   "display_name": "Bash",
   "language": "bash",
   "name": "bash"
  },
  "language_info": {
   "codemirror_mode": "shell",
   "file_extension": ".sh",
   "mimetype": "text/x-sh",
   "name": "bash"
  }
 },
 "nbformat": 4,
 "nbformat_minor": 2
}
