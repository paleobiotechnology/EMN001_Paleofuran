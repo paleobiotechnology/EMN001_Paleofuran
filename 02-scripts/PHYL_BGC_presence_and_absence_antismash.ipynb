{
 "cells": [
  {
   "cell_type": "markdown",
   "id": "a110d607",
   "metadata": {},
   "source": [
    "## **Project**: Natural products from the Palaeolithic\n",
    "\n",
    "## **Section**: Presence and Absence of BGCs in drep and ancient genomes\n",
    "\n",
    "\n",
    "Anan Ibrahim, 01.05.2022\n",
    "\n",
    "**Contents**\n",
    " - **Step1**: Create conda envirorment with required dependencies if not already installed\n",
    " - **Step2**: Screen for BGCs in the drep chlorobiales and ancient genomes"
   ]
  },
  {
   "cell_type": "markdown",
   "id": "8c5496c2",
   "metadata": {},
   "source": [
    "##########\n",
    "\n",
    "**Step1**: Create conda envirorment with required dependencies if not already installed\n",
    "\n",
    "##########"
   ]
  },
  {
   "cell_type": "code",
   "execution_count": null,
   "id": "d58a5b6d",
   "metadata": {},
   "outputs": [],
   "source": [
    "# All conda envs can be found in EMN001_Paleofuran/02-scripts/ENVS_*.yml\n",
    "conda env create -f antismash.yml"
   ]
  },
  {
   "cell_type": "markdown",
   "id": "5f2250de",
   "metadata": {},
   "source": [
    "##########\n",
    "\n",
    "**Step2**: Screen for BGCs in the drep chlorobiales and ancient genomes\n",
    "\n",
    "##########"
   ]
  },
  {
   "cell_type": "code",
   "execution_count": null,
   "id": "4cfab17f",
   "metadata": {},
   "outputs": [],
   "source": [
    "#!/bin/bash\n",
    "\n",
    "############################\n",
    "#Hashes and Directories\n",
    "############################\n",
    "\n",
    "# NOTE: Change directories in bash script accordingly \n",
    "# NOTE: Add the ancient Bins/MAGs in $BINS\n",
    "\n",
    "# Directories: \n",
    "OUT=/Net/Groups/ccdata/users/AIbrahim/ancientDNA/Deep-Evo/BGC/final-butyrolactone/Output\n",
    "BINS=/Net/Groups/ccdata/users/AIbrahim/ancientDNA/Deep-Evo/BGC/final-butyrolactone/Input/BINS\n",
    "\n",
    "DREPGENOME=/Net/Groups/ccdata/databases/ncbi-ref-genomes/Chlorobiales/drep/dereplicated_genomes\n",
    "ANCIENT_CONTIGS=/Net/Groups/ccdata/users/AIbrahim/ancientDNA/Deep-Evo/BGC/final-butyrolactone/Input/ancient_contigs_names_butyrolactone\n",
    "\n",
    "mkdir $OUT\n",
    "\n",
    "############################\n",
    "# Antismash annotation of MAGS\n",
    "############################\n",
    "mkdir $OUT/ANTISMASH-drep-refgenomes\n",
    "cd $OUT/ANTISMASH-drep-refgenomes\n",
    "\n",
    "eval \"$(conda shell.bash hook)\"\n",
    "conda activate antismash\n",
    "\n",
    "# Ancient MAGs\n",
    "for F in $OUT/PROKKA/*/*.fna; do \n",
    "  N=$(basename $F .gbk) ;\n",
    "  mkdir $OUT/ANTISMASH/$N ;\n",
    "  antismash $F \\\n",
    "  --output-dir $OUT/ANTISMASH/$N \\\n",
    "  --genefinding-gff3 $OUT/PROKKA/$N/*.gff \\\n",
    "  --genefinding-tool none \\\n",
    "  --logfile $OUT/ANTISMASH/$N/log_$N.txt \\\n",
    "  --cb-knownclusters \\\n",
    "  --cb-general \\\n",
    "  --minlength 1000 \\\n",
    "  --smcog-trees -c 29 ;\n",
    "done\n",
    "\n",
    "# Modern genomes\n",
    "for F in $OUT/PROKKA-drep-refgenomes/*/*.gbk; do \n",
    "  N=$(basename $F .gbk) ;\n",
    "  mkdir $OUT/ANTISMASH-drep-refgenomes/$N ;\n",
    "  antismash $F \\\n",
    "  --output-dir $OUT/ANTISMASH-drep-refgenomes/$N \\\n",
    "  --genefinding-tool none \\\n",
    "  --logfile $OUT/ANTISMASH-drep-refgenomes/$N/log_$N.txt \\\n",
    "  --cb-knownclusters \\\n",
    "  --cb-general \\\n",
    "  --minlength 1000 \\\n",
    "  --smcog-trees -c 4 ;\n",
    "done\n",
    "\n",
    "conda deactivate\n",
    "\n",
    "############################\n",
    "# Tabulate the antismash results \n",
    "############################\n",
    "\n",
    "python3 antismash_to_tsv1.py \\\n",
    "$BINS \\\n",
    "$OUT/PROKKA \\\n",
    "$OUT/ANTISMASH-drep-refgenomes \\\n",
    "$OUT/ANTISMASH-drep-refgenomes/antismash_bins_table.txt\n",
    "\n",
    "awk -F '\\t' '{print $1\"\\t\"$4}' $OUT/ANTISMASH-drep-refgenomes/antismash_bins_table.txt > \\\n",
    "$OUT/ANTISMASH-drep-refgenomes/antismash_bins_table2.txt"
   ]
  }
 ],
 "metadata": {
  "kernelspec": {
   "display_name": "Bash",
   "language": "bash",
   "name": "bash"
  },
  "language_info": {
   "codemirror_mode": "shell",
   "file_extension": ".sh",
   "mimetype": "text/x-sh",
   "name": "bash"
  }
 },
 "nbformat": 4,
 "nbformat_minor": 5
}
